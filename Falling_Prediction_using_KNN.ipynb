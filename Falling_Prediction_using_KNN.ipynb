{
  "nbformat": 4,
  "nbformat_minor": 0,
  "metadata": {
    "colab": {
      "name": "Falling_Prediction_using_KNN.ipynb",
      "provenance": [],
      "collapsed_sections": [],
      "authorship_tag": "ABX9TyPcnPDXrPLWFf63S6kw+lCZ",
      "include_colab_link": true
    },
    "kernelspec": {
      "name": "python3",
      "display_name": "Python 3"
    },
    "language_info": {
      "name": "python"
    }
  },
  "cells": [
    {
      "cell_type": "markdown",
      "metadata": {
        "id": "view-in-github",
        "colab_type": "text"
      },
      "source": [
        "<a href=\"https://colab.research.google.com/github/FarnazG/Machine_Learning/blob/Supervised_Learning/Falling_Prediction_using_KNN.ipynb\" target=\"_parent\"><img src=\"https://colab.research.google.com/assets/colab-badge.svg\" alt=\"Open In Colab\"/></a>"
      ]
    },
    {
      "cell_type": "markdown",
      "metadata": {
        "id": "_1PAigkPnh8c"
      },
      "source": [
        "#**Falling prediction using KNN**"
      ]
    },
    {
      "cell_type": "code",
      "metadata": {
        "id": "o84HJqbbmO4y"
      },
      "source": [
        "# importing necessary libraries:\n",
        "from math import sqrt"
      ],
      "execution_count": null,
      "outputs": []
    },
    {
      "cell_type": "markdown",
      "metadata": {
        "id": "3mKAEvPinUD1"
      },
      "source": [
        "## **Step 1: organizing training and test data**"
      ]
    },
    {
      "cell_type": "code",
      "metadata": {
        "id": "kvjqS5IZTluy"
      },
      "source": [
        "# Step1: organizing training and test data:\n",
        "# for Acceleromeret data:\n",
        "data_points = [(1,2,3,0),(2,1,3,0),(1,1,2,0),(2,2,3,0),(6,5,7,1),(5,6,6,1),(5,6,7,1),(7,6,7,1)] #training data last index is 0 and 1 for - and + fall\n",
        "query_point = (7,6,5) #test data\n",
        "\n",
        "# for Gyroscope data:\n",
        "data_points = [(2,1,3,0),(3,1,2,0),(3,2,2,0),(3,2,1,0),(5,6,7,1),(6,5,7,1),(5,7,6,1),(6,5,6,1)] #training data\n",
        "query_point = (5,6,7)  #test data"
      ],
      "execution_count": null,
      "outputs": []
    },
    {
      "cell_type": "markdown",
      "metadata": {
        "id": "2uZURdaon3C4"
      },
      "source": [
        "#**Step2: calculating the Euclidean distance between training and test data points**"
      ]
    },
    {
      "cell_type": "code",
      "metadata": {
        "id": "90bkWJz8m8DS"
      },
      "source": [
        "# Step2: calculating the Euclidean distance between two vectors: \"Euclidean Distance = sqrt(sum i to N (x1_i – x2_i)^2)\"\n",
        "def euclidean_distance(tup1, tup2):\n",
        "\tdistance = 0.0\n",
        "\tfor i in range(len(tup1)-1): # last index is about fall(+) or not showing by 0 and 1  \n",
        "\t\tdistance += (tup1[i] - tup2[i])**2\n",
        "\treturn round(sqrt(distance),3)"
      ],
      "execution_count": null,
      "outputs": []
    },
    {
      "cell_type": "markdown",
      "metadata": {
        "id": "dV3QVGxupNc8"
      },
      "source": [
        "#**Step3: Finding closest neighbors to the test data based on the distance between training and test data set**"
      ]
    },
    {
      "cell_type": "code",
      "metadata": {
        "id": "ksd04rRk2i4m"
      },
      "source": [
        "# step3: get closest neighbors to the test data based on the distance between training and test data set\n",
        "# num_neighbors is 3\n",
        "\n",
        "def get_neighbors(train_lst, test_point, num_neighbors): #list of training data points as tuples, test_data as tuple, num_k\n",
        "  distances = list()\n",
        "  for point in train_lst:\n",
        "    dist = euclidean_distance(point, test_point)\n",
        "    distances.append((point, dist))\n",
        "    distances.sort(key=lambda tup: tup[1])\n",
        "\t\n",
        "  neighbors = list()\n",
        "  for i in range(num_neighbors):\n",
        "    neighbors.append(distances[i][0])\n",
        "  # print(distances)\n",
        "  print(\"the closest data points to the test data:\", neighbors)\n",
        "  return distances\n",
        "  # return neighbors"
      ],
      "execution_count": null,
      "outputs": []
    },
    {
      "cell_type": "code",
      "metadata": {
        "colab": {
          "base_uri": "https://localhost:8080/"
        },
        "id": "sml6lMeyneTk",
        "outputId": "ac3dcaad-b5d0-43bc-c8ef-e8d596777441"
      },
      "source": [
        "# for Acceleromeret data:\n",
        "train_lst = [(1,2,3,0),(2,1,3,0),(1,1,2,0),(2,2,3,0),(6,5,7,1),(5,6,6,1),(5,6,7,1),(7,6,7,1)]\n",
        "test_point = (7,6,5)\n",
        "num_neighbors = 3\n",
        "print(get_neighbors(train_lst, test_point, num_neighbors))"
      ],
      "execution_count": null,
      "outputs": [
        {
          "output_type": "stream",
          "text": [
            "the closest data points to the test data: [(7, 6, 7, 1), (5, 6, 6, 1), (6, 5, 7, 1)]\n",
            "[((7, 6, 7, 1), 2.0), ((5, 6, 6, 1), 2.236), ((6, 5, 7, 1), 2.449), ((5, 6, 7, 1), 2.828), ((2, 2, 3, 0), 6.708), ((2, 1, 3, 0), 7.348), ((1, 2, 3, 0), 7.483), ((1, 1, 2, 0), 8.367)]\n"
          ],
          "name": "stdout"
        }
      ]
    },
    {
      "cell_type": "code",
      "metadata": {
        "colab": {
          "base_uri": "https://localhost:8080/"
        },
        "id": "Kh1kgSEtntir",
        "outputId": "60afd654-eae1-45e9-b732-a93e5b7ef7aa"
      },
      "source": [
        "# for Gyroscope data:\n",
        "train_lst = [(2,1,3,0),(3,1,2,0),(3,2,2,0),(3,2,1,0),(5,6,7,1),(6,5,7,1),(5,7,6,1),(6,5,6,1)] #training data\n",
        "test_point = (5,6,7)  #test data\n",
        "num_neighbors = 3\n",
        "print(get_neighbors(train_lst, test_point, num_neighbors))"
      ],
      "execution_count": null,
      "outputs": [
        {
          "output_type": "stream",
          "text": [
            "the closest data points to the test data: [(5, 6, 7, 1), (6, 5, 7, 1), (5, 7, 6, 1)]\n",
            "[((5, 6, 7, 1), 0.0), ((6, 5, 7, 1), 1.414), ((5, 7, 6, 1), 1.414), ((6, 5, 6, 1), 1.732), ((3, 2, 2, 0), 6.708), ((2, 1, 3, 0), 7.071), ((3, 1, 2, 0), 7.348), ((3, 2, 1, 0), 7.483)]\n"
          ],
          "name": "stdout"
        }
      ]
    },
    {
      "cell_type": "markdown",
      "metadata": {
        "id": "hrh3um7xpY80"
      },
      "source": [
        "# **Step4: predict the classification based on the neighbors class**"
      ]
    },
    {
      "cell_type": "code",
      "metadata": {
        "id": "XtePCLrATCVu"
      },
      "source": [
        "# step4: predict the classification based on the neighbors class\n",
        "def predict_classification(train_lst, test_point, num_neighbors):\n",
        "  neighbors = get_neighbors(train_lst, test_point, num_neighbors)\n",
        "  # outputvalues = [point[-1] for point in neighbors[:3]]\n",
        "  outputvalues = [point[0][-1] for point in neighbors[:3]]\n",
        "  print(\"predicted class based on neigbors class:\"+str(outputvalues[0]))\n",
        "  return outputvalues\n",
        "  # prediction = max(set(output_values), key=output_values.count)\n",
        "\t# return prediction"
      ],
      "execution_count": null,
      "outputs": []
    },
    {
      "cell_type": "code",
      "metadata": {
        "colab": {
          "base_uri": "https://localhost:8080/"
        },
        "id": "gR7Nh1w5mgUc",
        "outputId": "f3f600d6-d5cf-4a81-863b-7d19fc3d2d9d"
      },
      "source": [
        "# predicting class for Acceleromeret data:\n",
        "train_lst = [(1,2,3,0),(2,1,3,0),(1,1,2,0),(2,2,3,0),(6,5,7,1),(5,6,6,1),(5,6,7,1),(7,6,7,1)]\n",
        "test_point = (7,6,5)\n",
        "num_neighbors = 3\n",
        "\n",
        "print(predict_classification(train_lst, test_point, num_neighbors))"
      ],
      "execution_count": null,
      "outputs": [
        {
          "output_type": "stream",
          "text": [
            "the closest data points to the test data: [(7, 6, 7, 1), (5, 6, 6, 1), (6, 5, 7, 1)]\n",
            "predicted class based on neigbors class:1\n",
            "[1, 1, 1]\n"
          ],
          "name": "stdout"
        }
      ]
    },
    {
      "cell_type": "code",
      "metadata": {
        "colab": {
          "base_uri": "https://localhost:8080/"
        },
        "id": "zG86gS9-nCsj",
        "outputId": "d9cbb080-2e3e-44ee-80f1-bb60cc3f706d"
      },
      "source": [
        "# predicting class for Gyroscope data:\n",
        "train_lst = [(2,1,3,0),(3,1,2,0),(3,2,2,0),(3,2,1,0),(5,6,7,1),(6,5,7,1),(5,7,6,1),(6,5,6,1)] #training data\n",
        "test_point = (5,6,7)  #test data\n",
        "num_neighbors = 3\n",
        "\n",
        "print(predict_classification(train_lst, test_point, num_neighbors))"
      ],
      "execution_count": null,
      "outputs": [
        {
          "output_type": "stream",
          "text": [
            "the closest data points to the test data: [(5, 6, 7, 1), (6, 5, 7, 1), (5, 7, 6, 1)]\n",
            "predicted class based on neigbors class:1\n",
            "[1, 1, 1]\n"
          ],
          "name": "stdout"
        }
      ]
    },
    {
      "cell_type": "markdown",
      "metadata": {
        "id": "QOfgDR5_phtT"
      },
      "source": [
        "#**Step5: conclusion**\n",
        "##Based on the results from step 4, for data collected from Acceleromeret and Gyroscope sensors, test points are inside the **falling category**"
      ]
    }
  ]
}